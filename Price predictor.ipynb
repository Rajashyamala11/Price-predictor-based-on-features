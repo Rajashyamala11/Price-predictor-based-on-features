{
  "nbformat": 4,
  "nbformat_minor": 0,
  "metadata": {
    "colab": {
      "provenance": []
    },
    "kernelspec": {
      "name": "python3",
      "display_name": "Python 3"
    },
    "language_info": {
      "name": "python"
    }
  },
  "cells": [
    {
      "cell_type": "code",
      "execution_count": null,
      "metadata": {
        "id": "DVSLxt_CqfTR"
      },
      "outputs": [],
      "source": [
        "import pandas as pd\n",
        "import numpy as np\n",
        "from sklearn.model_selection import train_test_split\n",
        "from sklearn.neighbors import KNeighborsRegressor\n",
        "from sklearn.tree import DecisionTreeRegressor\n",
        "from sklearn.ensemble import AdaBoostRegressor, RandomForestRegressor\n",
        "from sklearn.linear_model import LinearRegression\n",
        "from sklearn.metrics import r2_score"
      ]
    },
    {
      "cell_type": "code",
      "source": [
        "df = pd.read_csv(\"/content/ndtv_data_final.csv\")"
      ],
      "metadata": {
        "id": "mYxXcGR19PQM"
      },
      "execution_count": null,
      "outputs": []
    },
    {
      "cell_type": "code",
      "source": [
        "\n",
        "# Remove non-numeric columns (name, brand, model)\n",
        "df = df.drop(columns=[\"Name\",\"Brand\", \"Model\"])"
      ],
      "metadata": {
        "id": "cHzIf78d9VD3"
      },
      "execution_count": null,
      "outputs": []
    },
    {
      "cell_type": "code",
      "source": [
        "\n",
        "# Split into features (X) and target (y)\n",
        "X = df.drop(columns=[\"Price\"]).values\n",
        "y = df[\"Price\"].values\n",
        "\n",
        "# Split into training and testing sets\n",
        "X_train, X_test, y_train, y_test = train_test_split(X, y, test_size=0.2, random_state=42)\n"
      ],
      "metadata": {
        "id": "wkMTSQC_8GDi"
      },
      "execution_count": null,
      "outputs": []
    },
    {
      "cell_type": "code",
      "source": [
        "\n",
        "# Train the KNeighbors Regression model\n",
        "knn = KNeighborsRegressor(n_neighbors=5)\n",
        "knn.fit(X_train, y_train)\n",
        "\n",
        "# Make predictions on the test set\n",
        "y_pred = knn.predict(X_test)\n",
        "\n",
        "# Calculate the R-squared score (accuracy)\n",
        "accuracy = r2_score(y_test, y_pred)\n",
        "print(f'The accuracy of the KNeighbors Regression model is: {accuracy*100},%')\n"
      ],
      "metadata": {
        "colab": {
          "base_uri": "https://localhost:8080/"
        },
        "id": "e28ypv718JLt",
        "outputId": "d54ff724-89c2-441e-ad5f-c128cb03c794"
      },
      "execution_count": null,
      "outputs": [
        {
          "output_type": "stream",
          "name": "stdout",
          "text": [
            "The accuracy of the KNeighbors Regression model is: 50.03783617696021,%\n"
          ]
        }
      ]
    },
    {
      "cell_type": "code",
      "source": [
        "# Train and evaluate the DecisionTreeRegressor model\n",
        "dtr = DecisionTreeRegressor()\n",
        "dtr.fit(X_train, y_train)\n",
        "y_pred = dtr.predict(X_test)\n",
        "accuracy = r2_score(y_test, y_pred)\n",
        "print(f'The accuracy of the DecisionTreeRegressor model is: {accuracy*100},%')\n"
      ],
      "metadata": {
        "colab": {
          "base_uri": "https://localhost:8080/"
        },
        "id": "TmJCpYOu8TdH",
        "outputId": "a735ab6c-56ed-4cfe-e927-8a2c1db3ef76"
      },
      "execution_count": null,
      "outputs": [
        {
          "output_type": "stream",
          "name": "stdout",
          "text": [
            "The accuracy of the DecisionTreeRegressor model is: 39.52015805534168,%\n"
          ]
        }
      ]
    },
    {
      "cell_type": "code",
      "source": [
        "# Train and evaluate the AdaBoostRegressor model\n",
        "abr = AdaBoostRegressor()\n",
        "abr.fit(X_train, y_train)\n",
        "y_pred = abr.predict(X_test)\n",
        "accuracy = r2_score(y_test, y_pred)\n",
        "print(f'The accuracy of the AdaBoostRegressor model is: {accuracy*100},%')\n"
      ],
      "metadata": {
        "colab": {
          "base_uri": "https://localhost:8080/"
        },
        "id": "4n8BJaAW8zf5",
        "outputId": "7f054943-b789-4295-f8ee-c51e26f681a4"
      },
      "execution_count": null,
      "outputs": [
        {
          "output_type": "stream",
          "name": "stdout",
          "text": [
            "The accuracy of the AdaBoostRegressor model is: 18.86051150235366,%\n"
          ]
        }
      ]
    },
    {
      "cell_type": "code",
      "source": [
        "\n",
        "# Train and evaluate the RandomForestRegressor model\n",
        "rfr = RandomForestRegressor()\n",
        "rfr.fit(X_train, y_train)\n",
        "y_pred = rfr.predict(X_test)\n",
        "accuracy = r2_score(y_test, y_pred)\n",
        "print(f'The accuracy of the RandomForestRegressor model is: {accuracy*100},%')\n"
      ],
      "metadata": {
        "colab": {
          "base_uri": "https://localhost:8080/"
        },
        "id": "Ky1JR6RP9AbX",
        "outputId": "19875885-b160-4e16-ec30-19ea34d50b3e"
      },
      "execution_count": null,
      "outputs": [
        {
          "output_type": "stream",
          "name": "stdout",
          "text": [
            "The accuracy of the RandomForestRegressor model is: 53.05837969400989,%\n"
          ]
        }
      ]
    },
    {
      "cell_type": "code",
      "source": [
        "#Train and evaluate the linear regression  model\n",
        "lr = LinearRegression()\n",
        "lr.fit(X_train, y_train)\n",
        "\n",
        "# Make a prediction on a new laptop\n",
        "#X_new = [[new_feature1, new_feature2, ...]]\n",
        "#price_prediction = model.predict(X_new)\n",
        "y_pred = lr.predict(X_test)\n",
        "accuracy = r2_score(y_test, y_pred)\n",
        "print(f'The accuracy of the Linear regression model is: {accuracy*100},%')\n"
      ],
      "metadata": {
        "colab": {
          "base_uri": "https://localhost:8080/"
        },
        "id": "JgY-E5CyEKD8",
        "outputId": "32eb3ec2-dea8-43b0-da3d-3dc67cfdac59"
      },
      "execution_count": null,
      "outputs": [
        {
          "output_type": "stream",
          "name": "stdout",
          "text": [
            "The accuracy of the Linear regression model is: 44.425823326258254,%\n"
          ]
        }
      ]
    },
    {
      "cell_type": "markdown",
      "source": [
        "## **PREDICTING NEW MOBILE PRICE**"
      ],
      "metadata": {
        "id": "e8hh-ENIIMK_"
      }
    },
    {
      "cell_type": "code",
      "source": [
        "\n",
        "# Get input features for a new mobile phone from the user\n",
        "battery_capacity = float(input(\"Enter battery capacity (mAh): \"))\n",
        "screen_size = float(input(\"Enter screen size (inches): \"))\n",
        "resolution_x = int(input(\"Enter resolution x: \"))\n",
        "resolution_y = int(input(\"Enter resolution y: \"))\n",
        "ram = int(input(\"Enter RAM (MB): \"))\n",
        "\n",
        "# Define a new set of features for the mobile phone\n",
        "new_mobile_features = [battery_capacity, screen_size, resolution_x, resolution_y, ram]\n",
        "\n",
        "# Predict the price of the new mobile phone\n",
        "new_mobile_price = rfr.predict([new_mobile_features])[0]\n",
        "print(\"Predicted price:\", new_mobile_price)"
      ],
      "metadata": {
        "colab": {
          "base_uri": "https://localhost:8080/"
        },
        "id": "m2ywDBd39F2t",
        "outputId": "4e2915b1-7f43-4943-9c56-db3aea72770a"
      },
      "execution_count": null,
      "outputs": [
        {
          "output_type": "stream",
          "name": "stdout",
          "text": [
            "Enter battery capacity (mAh): 3110\n",
            "Enter screen size (inches): 6.1\n",
            "Enter resolution x: 1080\n",
            "Enter resolution y: 2400\n",
            "Enter RAM (MB): 6000\n",
            "Predicted price: 24519.0845\n"
          ]
        }
      ]
    },
    {
      "cell_type": "code",
      "source": [],
      "metadata": {
        "id": "cU1oXIv0EIVX"
      },
      "execution_count": null,
      "outputs": []
    }
  ]
}